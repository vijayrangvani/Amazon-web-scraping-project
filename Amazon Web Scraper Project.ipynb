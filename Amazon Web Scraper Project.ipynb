{
 "cells": [
  {
   "cell_type": "code",
   "execution_count": 1,
   "id": "09ec42f2",
   "metadata": {},
   "outputs": [],
   "source": [
    "# Import Libraries\n",
    "\n",
    "import numpy as np\n",
    "import pandas as pd\n",
    "\n",
    "from bs4 import BeautifulSoup #web scrapping library \n",
    "import requests\n",
    "import time\n",
    "import datetime\n",
    "import smtplib  #for sending email to yourself"
   ]
  },
  {
   "cell_type": "code",
   "execution_count": 2,
   "id": "46887684",
   "metadata": {},
   "outputs": [
    {
     "name": "stdout",
     "output_type": "stream",
     "text": [
      "Oneplus Bullets Wireless Z Bass Edition Bluetooth in Ear Earphones with mic (Black)\n",
      "₹1,999.00\n"
     ]
    }
   ],
   "source": [
    "# Connect to Websit and pull in the data\n",
    "\n",
    "URL = 'https://www.amazon.in/OnePlus-Bullets-Wireless-Bass-Black/dp/B092ZJVB6Z/ref=lp_1389401031_1_1?th=1' \n",
    "\n",
    "headers = {\"User-Agent\": \"Mozilla/5.0 (Windows NT 10.0; Win64; x64) AppleWebKit/537.36 (KHTML, like Gecko) Chrome/99.0.4844.84 Safari/537.36\"} \n",
    "\n",
    "page = requests.get(URL,headers=headers)\n",
    "\n",
    "soup1 = BeautifulSoup(page.content,\"html.parser\")\n",
    "\n",
    "soup2 = BeautifulSoup(soup1.prettify(),\"html.parser\")\n",
    "\n",
    "\n",
    "title = soup2.find(id ='productTitle').get_text()\n",
    "price = soup2.find(\"span\", {\"class\": 'a-offscreen'}).get_text() \n",
    "print(title.strip())\n",
    "print(price.strip())"
   ]
  },
  {
   "cell_type": "code",
   "execution_count": 3,
   "id": "b263dcb1",
   "metadata": {},
   "outputs": [
    {
     "name": "stdout",
     "output_type": "stream",
     "text": [
      "Oneplus Bullets Wireless Z Bass Edition Bluetooth in Ear Earphones with mic (Black)\n",
      "1999.00\n"
     ]
    }
   ],
   "source": [
    "# Clean up the data a little bit\n",
    "\n",
    "price = price.strip()[1:].replace(',','')\n",
    "title = title.strip()\n",
    "\n",
    "print(title)\n",
    "print(price)\n"
   ]
  },
  {
   "cell_type": "code",
   "execution_count": 4,
   "id": "614d999d",
   "metadata": {},
   "outputs": [
    {
     "name": "stdout",
     "output_type": "stream",
     "text": [
      "2022-04-02\n"
     ]
    }
   ],
   "source": [
    "# Create a Timestamp for your output to track when data was collected\n",
    "\n",
    "import datetime\n",
    "\n",
    "today = datetime.date.today()\n",
    "\n",
    "print(today)\n"
   ]
  },
  {
   "cell_type": "code",
   "execution_count": 5,
   "id": "c951774b",
   "metadata": {},
   "outputs": [],
   "source": [
    "# Create CSV and write headers and data into the file\n",
    "\n",
    "import csv \n",
    "\n",
    "header = ['Title', 'Price', 'Date']\n",
    "data = [title, price, today]\n",
    "\n",
    "\n",
    "with open('AmazonWebScraperDataset.csv', 'w', newline='', encoding='UTF8') as f:\n",
    "    writer = csv.writer(f)\n",
    "    writer.writerow(header)\n",
    "    writer.writerow(data)\n",
    "    \n"
   ]
  },
  {
   "cell_type": "code",
   "execution_count": 6,
   "id": "ecd4df79",
   "metadata": {},
   "outputs": [
    {
     "name": "stdout",
     "output_type": "stream",
     "text": [
      "                                               Title   Price        Date\n",
      "0  Oneplus Bullets Wireless Z Bass Edition Blueto...  1999.0  2022-04-02\n"
     ]
    }
   ],
   "source": [
    "# Reading the Dataframe\n",
    "df = pd.read_csv(r'C:\\Users\\VIJAY RANGVANI\\Downloads\\Data Anaylst project\\AmazonWebScraperDataset.csv')\n",
    "print(df)"
   ]
  },
  {
   "cell_type": "code",
   "execution_count": 7,
   "id": "95a12633",
   "metadata": {},
   "outputs": [
    {
     "data": {
      "text/html": [
       "<div>\n",
       "<style scoped>\n",
       "    .dataframe tbody tr th:only-of-type {\n",
       "        vertical-align: middle;\n",
       "    }\n",
       "\n",
       "    .dataframe tbody tr th {\n",
       "        vertical-align: top;\n",
       "    }\n",
       "\n",
       "    .dataframe thead th {\n",
       "        text-align: right;\n",
       "    }\n",
       "</style>\n",
       "<table border=\"1\" class=\"dataframe\">\n",
       "  <thead>\n",
       "    <tr style=\"text-align: right;\">\n",
       "      <th></th>\n",
       "      <th>Title</th>\n",
       "      <th>Price</th>\n",
       "      <th>Date</th>\n",
       "    </tr>\n",
       "  </thead>\n",
       "  <tbody>\n",
       "    <tr>\n",
       "      <th>0</th>\n",
       "      <td>Oneplus Bullets Wireless Z Bass Edition Blueto...</td>\n",
       "      <td>1999.0</td>\n",
       "      <td>2022-04-02</td>\n",
       "    </tr>\n",
       "  </tbody>\n",
       "</table>\n",
       "</div>"
      ],
      "text/plain": [
       "                                               Title   Price        Date\n",
       "0  Oneplus Bullets Wireless Z Bass Edition Blueto...  1999.0  2022-04-02"
      ]
     },
     "execution_count": 7,
     "metadata": {},
     "output_type": "execute_result"
    }
   ],
   "source": [
    "#Checking Dataframe\n",
    "df.head()"
   ]
  },
  {
   "cell_type": "code",
   "execution_count": 8,
   "id": "091719b9",
   "metadata": {},
   "outputs": [],
   "source": [
    "#Now we are appending data to the csv\n",
    "\n",
    "with open('AmazonWebScraperDataset.csv', 'a+', newline='', encoding='UTF8') as f:\n",
    "    writer = csv.writer(f)\n",
    "    writer.writerow(data)\n"
   ]
  },
  {
   "cell_type": "markdown",
   "id": "7a130b03",
   "metadata": {},
   "source": [
    "#### `Till now` we checked every part as seperate entity, now we will be combining each of the functionality into a single function."
   ]
  },
  {
   "cell_type": "code",
   "execution_count": 9,
   "id": "887081d4",
   "metadata": {},
   "outputs": [],
   "source": [
    "#Combine all of the above code into one function\n",
    "\n",
    "\n",
    "def check_price():\n",
    "    URL = 'https://www.amazon.in/OnePlus-Bullets-Wireless-Bass-Black/dp/B092ZJVB6Z/ref=lp_1389401031_1_1?th=1' \n",
    "\n",
    "    headers = {\"User-Agent\": \"Mozilla/5.0 (Windows NT 10.0; Win64; x64) AppleWebKit/537.36 (KHTML, like Gecko) Chrome/99.0.4844.84 Safari/537.36\"} \n",
    "\n",
    "    page = requests.get(URL,headers=headers)\n",
    "\n",
    "    soup1 = BeautifulSoup(page.content,\"html.parser\")\n",
    "\n",
    "    soup2 = BeautifulSoup(soup1.prettify(),\"html.parser\")\n",
    "\n",
    "\n",
    "    title = soup2.find(id ='productTitle').get_text()\n",
    "    price = soup2.find(\"span\", {\"class\": 'a-offscreen'}).get_text() \n",
    "\n",
    "    price = price.strip()[1:].replace(',','')\n",
    "    title = title.strip()\n",
    "\n",
    "    import datetime\n",
    "\n",
    "    today = datetime.date.today()\n",
    "    \n",
    "    import csv \n",
    "\n",
    "    header = ['Title', 'Price', 'Date']\n",
    "    data = [title, price, today]\n",
    "\n",
    "    with open('AmazonWebScraperDataset.csv', 'a+', newline='', encoding='UTF8') as f:\n",
    "        writer = csv.writer(f)\n",
    "        writer.writerow(data)\n"
   ]
  },
  {
   "cell_type": "code",
   "execution_count": 10,
   "id": "80bc5bc7",
   "metadata": {},
   "outputs": [],
   "source": [
    "# Try sending an email to self  when a price hits below a certain level \n",
    "\n",
    "def send_mail():\n",
    "    server = smtplib.SMTP_SSL('smtp.gmail.com',465)\n",
    "    server.ehlo()\n",
    "#     server.starttls()\n",
    "    server.ehlo()\n",
    "    server.login('vijayxxxxxx@gmail.com','xxxxxxxxxx')\n",
    "    \n",
    "    subject = \"The earphones you want is below 2000! Now is your chance to buy!\"\n",
    "    body = \"Vijay, This is the moment we have been waiting for. Now is your chance to pick up the earphones of your dreams. Don't miss it up!\\n\\n Link here: https://www.amazon.in/OnePlus-Bullets-Wireless-Bass-Black/dp/B092ZJVB6Z/ref=lp_1389401031_1_1?th=1\"\n",
    "\n",
    "    msg = f\"Subject: {subject}\\n\\n{body}\"\n",
    "    \n",
    "    server.sendmail('vijayxxxxxx@gmail.com','vijayxxxxxx@gmail.com',msg)"
   ]
  },
  {
   "cell_type": "code",
   "execution_count": 11,
   "id": "2d053623",
   "metadata": {},
   "outputs": [],
   "source": [
    "#Manually checking price of the product\n",
    "check_price()"
   ]
  },
  {
   "cell_type": "code",
   "execution_count": 12,
   "id": "32f49ec5",
   "metadata": {},
   "outputs": [],
   "source": [
    "#Automating the price checking - Runs check_price after a set time and inputs data into your CSV\n",
    "\n",
    "# while(True):\n",
    "#     check_price()\n",
    "#     time.sleep(86400)\n"
   ]
  },
  {
   "cell_type": "code",
   "execution_count": 13,
   "id": "27b81153",
   "metadata": {},
   "outputs": [
    {
     "name": "stdout",
     "output_type": "stream",
     "text": [
      "                                               Title   Price        Date\n",
      "0  Oneplus Bullets Wireless Z Bass Edition Blueto...  1999.0  2022-04-02\n",
      "1  Oneplus Bullets Wireless Z Bass Edition Blueto...  1999.0  2022-04-02\n",
      "2  Oneplus Bullets Wireless Z Bass Edition Blueto...  1999.0  2022-04-02\n"
     ]
    }
   ],
   "source": [
    "# Reading values in dataframe\n",
    "df = pd.read_csv(r'C:\\Users\\VIJAY RANGVANI\\Downloads\\Data Anaylst project\\AmazonWebScraperDataset.csv')\n",
    "print(df.head())"
   ]
  },
  {
   "cell_type": "code",
   "execution_count": 14,
   "id": "3aaf7c0e",
   "metadata": {},
   "outputs": [
    {
     "name": "stdout",
     "output_type": "stream",
     "text": [
      "Mail sending failed due to below error: \n",
      "\n",
      "(535, b'5.7.8 Username and Password not accepted. Learn more at\\n5.7.8  https://support.google.com/mail/?p=BadCredentials c4-20020a056a00248400b004faad8c81bcsm7119540pfv.127 - gsmtp')\n"
     ]
    }
   ],
   "source": [
    "#Comparing Price Drop \n",
    "if df['Price'].iloc[-1]<2000:\n",
    "    try:\n",
    "        send_mail()\n",
    "        print(\"mail sent successfully\")\n",
    "    except Exception as e:\n",
    "        print(\"Mail sending failed due to below error: \\n\")\n",
    "        print(e)"
   ]
  },
  {
   "cell_type": "code",
   "execution_count": null,
   "id": "15ee633e",
   "metadata": {},
   "outputs": [],
   "source": []
  }
 ],
 "metadata": {
  "kernelspec": {
   "display_name": "Python 3",
   "language": "python",
   "name": "python3"
  },
  "language_info": {
   "codemirror_mode": {
    "name": "ipython",
    "version": 3
   },
   "file_extension": ".py",
   "mimetype": "text/x-python",
   "name": "python",
   "nbconvert_exporter": "python",
   "pygments_lexer": "ipython3",
   "version": "3.8.8"
  }
 },
 "nbformat": 4,
 "nbformat_minor": 5
}
